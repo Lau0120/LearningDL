{
 "cells": [
  {
   "cell_type": "markdown",
   "metadata": {
    "collapsed": false
   },
   "source": [
    "## Packages"
   ]
  },
  {
   "cell_type": "code",
   "execution_count": null,
   "metadata": {
    "collapsed": false
   },
   "outputs": [],
   "source": [
    "import torch.nn as nn\n",
    "import torch\n",
    "import torch.optim as optim\n",
    "\n",
    "from PIL import ImageFile\n",
    "from torch.utils.data import DataLoader\n",
    "from torchvision import transforms\n",
    "from tools import ImageNet, init_weights, init_bias, training_loop"
   ]
  },
  {
   "cell_type": "markdown",
   "metadata": {
    "collapsed": false
   },
   "source": [
    "## Configuration"
   ]
  },
  {
   "cell_type": "code",
   "execution_count": null,
   "metadata": {
    "collapsed": false
   },
   "outputs": [],
   "source": [
    "ImageFile.LOAD_TRUNCATED_IMAGES = True\n",
    "\n",
    "trn_batch_size = 128\n",
    "val_batch_size = 100\n",
    "epoch_count = 90\n",
    "learning_rate = 0.00001\n",
    "momentum = 0.9\n",
    "weight_decay = 0.0005\n",
    "dropout_ratio = 0.5\n",
    "\n",
    "device = torch.device('cuda') if torch.cuda.is_available() else torch.device('cpu')"
   ]
  },
  {
   "cell_type": "markdown",
   "metadata": {
    "collapsed": false
   },
   "source": [
    "## Datasets"
   ]
  },
  {
   "cell_type": "code",
   "execution_count": null,
   "metadata": {
    "collapsed": false
   },
   "outputs": [],
   "source": [
    "imgnet_trn_set = ImageNet(transforms.Compose([\n",
    "    transforms.Resize((256, 256)),\n",
    "    transforms.RandomCrop((227, 227)),\n",
    "    transforms.ToTensor(),\n",
    "]), is_train=True)\n",
    "\n",
    "print(\"ImgNet set loaded...\")\n",
    "\n",
    "imgnet_trn_loader = DataLoader(\n",
    "    dataset=imgnet_trn_set,\n",
    "    batch_size=trn_batch_size,\n",
    "    shuffle=True,\n",
    ")"
   ]
  },
  {
   "cell_type": "markdown",
   "metadata": {
    "collapsed": false
   },
   "source": [
    "## Structure"
   ]
  },
  {
   "cell_type": "code",
   "execution_count": null,
   "metadata": {
    "collapsed": false
   },
   "outputs": [],
   "source": [
    "class AlexNet(nn.Module):\n",
    "    def __init__(self):\n",
    "        super().__init__()\n",
    "        self.conv1 = nn.Sequential(\n",
    "            nn.Conv2d(in_channels=3, out_channels=96, kernel_size=11, stride=4, padding=0),\n",
    "            nn.ReLU(),\n",
    "            nn.LocalResponseNorm(size=5, k=2),\n",
    "            nn.MaxPool2d(kernel_size=3, stride=2),\n",
    "        )\n",
    "        self.conv2 = nn.Sequential(\n",
    "            nn.Conv2d(in_channels=96, out_channels=256, kernel_size=5, stride=1, padding=2),\n",
    "            nn.ReLU(),\n",
    "            nn.LocalResponseNorm(size=5, k=2),\n",
    "            nn.MaxPool2d(kernel_size=3, stride=2),\n",
    "        )\n",
    "        self.conv3 = nn.Sequential(\n",
    "            nn.Conv2d(in_channels=256, out_channels=384, kernel_size=3, stride=1, padding=1),\n",
    "            nn.ReLU(),\n",
    "        )\n",
    "        self.conv4 = nn.Sequential(\n",
    "            nn.Conv2d(in_channels=384, out_channels=384, kernel_size=3, stride=1, padding=1),\n",
    "            nn.ReLU(),\n",
    "        )\n",
    "        self.conv5 = nn.Sequential(\n",
    "            nn.Conv2d(in_channels=384, out_channels=256, kernel_size=3, stride=1, padding=1),\n",
    "            nn.ReLU(),\n",
    "            nn.MaxPool2d(kernel_size=3, stride=2),\n",
    "        )\n",
    "        self.fucn6 = nn.Sequential(\n",
    "            nn.Conv2d(in_channels=256, out_channels=4096, kernel_size=6, stride=1, padding=0),\n",
    "            nn.ReLU(),\n",
    "            nn.Dropout(p=dropout_ratio),\n",
    "        )\n",
    "        self.fucn7 = nn.Sequential(\n",
    "            nn.Linear(4096, 4096),\n",
    "            nn.ReLU(),\n",
    "            nn.Dropout(p=dropout_ratio),\n",
    "        )\n",
    "        self.fucn8 = nn.Sequential(\n",
    "            nn.Linear(4096, 1000),\n",
    "        )\n",
    "\n",
    "    def forward(self, x):\n",
    "        output = self.conv1(x)\n",
    "        output = self.conv2(output)\n",
    "        output = self.conv3(output)\n",
    "        output = self.conv4(output)\n",
    "        output = self.conv5(output)\n",
    "        output = self.fucn6(output)\n",
    "        output = self.fucn7(output.view(-1, 4096))\n",
    "        output = self.fucn8(output)\n",
    "\n",
    "        return output\n",
    "\n",
    "ax_net = AlexNet()\n",
    "\n",
    "init_weights(ax_net.conv1, mean=0.0, std=0.01)\n",
    "init_weights(ax_net.conv2, mean=0.0, std=0.01)\n",
    "init_weights(ax_net.conv3, mean=0.0, std=0.01)\n",
    "init_weights(ax_net.conv4, mean=0.0, std=0.01)\n",
    "init_weights(ax_net.conv5, mean=0.0, std=0.01)\n",
    "init_weights(ax_net.fucn6, mean=0.0, std=0.01)\n",
    "init_weights(ax_net.fucn7, mean=0.0, std=0.01)\n",
    "init_weights(ax_net.fucn8, mean=0.0, std=0.01)\n",
    "\n",
    "init_bias(ax_net.conv1, 0)\n",
    "init_bias(ax_net.conv2, 1)\n",
    "init_bias(ax_net.conv3, 0)\n",
    "init_bias(ax_net.conv4, 1)\n",
    "init_bias(ax_net.conv5, 1)\n",
    "init_bias(ax_net.fucn6, 0)\n",
    "init_bias(ax_net.fucn7, 0)\n",
    "init_bias(ax_net.fucn8, 0)\n",
    "\n",
    "ax_net.to(device)"
   ]
  },
  {
   "cell_type": "markdown",
   "metadata": {
    "collapsed": false
   },
   "source": [
    "## Training"
   ]
  },
  {
   "cell_type": "code",
   "execution_count": null,
   "metadata": {
    "collapsed": false
   },
   "outputs": [],
   "source": [
    "training_loop(\n",
    "    n_epochs=epoch_count,\n",
    "    optimizer=optim.SGD(\n",
    "        ax_net.parameters(),\n",
    "        lr=learning_rate,\n",
    "        momentum=momentum,\n",
    "        weight_decay=weight_decay,\n",
    "    ),\n",
    "    model=ax_net,\n",
    "    loss_fn=nn.CrossEntropyLoss(),\n",
    "    dev=device,\n",
    "    loader=imgnet_trn_loader,\n",
    ")\n",
    "\n",
    "torch.save(ax_net.state_dict(), \"AlexNet_Weights.pt\")\n",
    "print(\"AlexNet parameters saved...\")"
   ]
  }
 ],
 "metadata": {
  "kernelspec": {
   "display_name": "Python 3",
   "language": "python",
   "name": "python3"
  },
  "language_info": {
   "codemirror_mode": {
    "name": "ipython",
    "version": 3
   },
   "file_extension": ".py",
   "mimetype": "text/x-python",
   "name": "python",
   "nbconvert_exporter": "python",
   "pygments_lexer": "ipython3",
   "version": "3.9.16"
  }
 },
 "nbformat": 4,
 "nbformat_minor": 0
}
