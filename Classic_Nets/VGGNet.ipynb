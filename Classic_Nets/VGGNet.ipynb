{
 "cells": [
  {
   "cell_type": "markdown",
   "metadata": {
    "collapsed": false
   },
   "source": [
    "## Packages"
   ]
  },
  {
   "cell_type": "code",
   "execution_count": 1,
   "metadata": {
    "ExecuteTime": {
     "end_time": "2023-07-07T02:37:31.423851800Z",
     "start_time": "2023-07-07T02:37:31.361578100Z"
    },
    "collapsed": false
   },
   "outputs": [],
   "source": [
    "import torch.nn as nn\n",
    "import torch\n",
    "import torch.optim as optim\n",
    "\n",
    "from PIL import ImageFile\n",
    "from torch.utils.data import DataLoader\n",
    "from torchvision import transforms\n",
    "from tools import ImageNet, init_weights, init_bias, training_loop"
   ]
  },
  {
   "cell_type": "markdown",
   "metadata": {
    "collapsed": false
   },
   "source": [
    "## Configuration"
   ]
  },
  {
   "cell_type": "code",
   "execution_count": 2,
   "metadata": {
    "ExecuteTime": {
     "end_time": "2023-07-07T02:37:31.439508800Z",
     "start_time": "2023-07-07T02:37:31.377201400Z"
    },
    "collapsed": false
   },
   "outputs": [],
   "source": [
    "ImageFile.LOAD_TRUNCATED_IMAGES = True\n",
    "\n",
    "trn_batch_size = 256\n",
    "val_batch_size = 100\n",
    "epoch_count = 74\n",
    "learning_rate = 0.00001\n",
    "momentum = 0.9\n",
    "weight_decay = 0.0005\n",
    "dropout_ratio = 0.5\n",
    "\n",
    "device = torch.device('cuda') if torch.cuda.is_available() else torch.device('cpu')"
   ]
  },
  {
   "cell_type": "markdown",
   "metadata": {
    "collapsed": false
   },
   "source": [
    "## Datasets"
   ]
  },
  {
   "cell_type": "code",
   "execution_count": 3,
   "metadata": {
    "ExecuteTime": {
     "end_time": "2023-07-07T02:37:38.160645100Z",
     "start_time": "2023-07-07T02:37:31.392826400Z"
    },
    "collapsed": false
   },
   "outputs": [
    {
     "name": "stdout",
     "output_type": "stream",
     "text": [
      "ImgNet set loaded...\n"
     ]
    }
   ],
   "source": [
    "imgnet_trn_set = ImageNet(transforms.Compose([\n",
    "    transforms.Resize((384, 384)),\n",
    "    transforms.RandomCrop((224, 224)),\n",
    "    transforms.RandomHorizontalFlip(),\n",
    "    transforms.ToTensor(),\n",
    "    transforms.Normalize(mean=[0.485, 0.456, 0.406], std=[1.0, 1.0, 1.0]),\n",
    "    transforms.ColorJitter((0.3, 0.7), (0.3, 0.7), (0.3, 0.7)),\n",
    "]), is_train=True)\n",
    "\n",
    "print(\"ImgNet set loaded...\")\n",
    "\n",
    "imgnet_trn_loader = DataLoader(\n",
    "    dataset=imgnet_trn_set,\n",
    "    batch_size=trn_batch_size,\n",
    "    shuffle=True,\n",
    ")"
   ]
  },
  {
   "cell_type": "markdown",
   "metadata": {
    "collapsed": false
   },
   "source": [
    "## Structure"
   ]
  },
  {
   "cell_type": "code",
   "execution_count": 4,
   "metadata": {
    "ExecuteTime": {
     "end_time": "2023-07-07T02:37:39.351108800Z",
     "start_time": "2023-07-07T02:37:38.176273700Z"
    },
    "collapsed": false
   },
   "outputs": [
    {
     "data": {
      "text/plain": [
       "VGG19(\n",
       "  (conv_block1): Sequential(\n",
       "    (0): Conv2d(3, 64, kernel_size=(3, 3), stride=(1, 1), padding=(1, 1))\n",
       "    (1): ReLU()\n",
       "    (2): Conv2d(64, 64, kernel_size=(3, 3), stride=(1, 1), padding=(1, 1))\n",
       "    (3): ReLU()\n",
       "    (4): MaxPool2d(kernel_size=2, stride=2, padding=0, dilation=1, ceil_mode=False)\n",
       "  )\n",
       "  (conv_block2): Sequential(\n",
       "    (0): Conv2d(64, 128, kernel_size=(3, 3), stride=(1, 1), padding=(1, 1))\n",
       "    (1): ReLU()\n",
       "    (2): Conv2d(128, 128, kernel_size=(3, 3), stride=(1, 1), padding=(1, 1))\n",
       "    (3): ReLU()\n",
       "    (4): MaxPool2d(kernel_size=2, stride=2, padding=0, dilation=1, ceil_mode=False)\n",
       "  )\n",
       "  (conv_block3): Sequential(\n",
       "    (0): Conv2d(128, 256, kernel_size=(3, 3), stride=(1, 1), padding=(1, 1))\n",
       "    (1): ReLU()\n",
       "    (2): Conv2d(256, 256, kernel_size=(3, 3), stride=(1, 1), padding=(1, 1))\n",
       "    (3): ReLU()\n",
       "    (4): Conv2d(256, 256, kernel_size=(3, 3), stride=(1, 1), padding=(1, 1))\n",
       "    (5): ReLU()\n",
       "    (6): Conv2d(256, 256, kernel_size=(3, 3), stride=(1, 1), padding=(1, 1))\n",
       "    (7): ReLU()\n",
       "    (8): MaxPool2d(kernel_size=2, stride=2, padding=0, dilation=1, ceil_mode=False)\n",
       "  )\n",
       "  (conv_block4): Sequential(\n",
       "    (0): Conv2d(256, 512, kernel_size=(3, 3), stride=(1, 1), padding=(1, 1))\n",
       "    (1): ReLU()\n",
       "    (2): Conv2d(512, 512, kernel_size=(1, 1), stride=(1, 1))\n",
       "    (3): ReLU()\n",
       "    (4): Conv2d(512, 512, kernel_size=(1, 1), stride=(1, 1))\n",
       "    (5): ReLU()\n",
       "    (6): Conv2d(512, 512, kernel_size=(1, 1), stride=(1, 1))\n",
       "    (7): ReLU()\n",
       "    (8): Conv2d(512, 512, kernel_size=(1, 1), stride=(1, 1))\n",
       "    (9): ReLU()\n",
       "    (10): MaxPool2d(kernel_size=2, stride=2, padding=0, dilation=1, ceil_mode=False)\n",
       "  )\n",
       "  (conv_block5): Sequential(\n",
       "    (0): Conv2d(512, 512, kernel_size=(1, 1), stride=(1, 1))\n",
       "    (1): ReLU()\n",
       "    (2): Conv2d(512, 512, kernel_size=(1, 1), stride=(1, 1))\n",
       "    (3): ReLU()\n",
       "    (4): Conv2d(512, 512, kernel_size=(1, 1), stride=(1, 1))\n",
       "    (5): ReLU()\n",
       "    (6): Conv2d(512, 512, kernel_size=(1, 1), stride=(1, 1))\n",
       "    (7): ReLU()\n",
       "    (8): Conv2d(512, 512, kernel_size=(1, 1), stride=(1, 1))\n",
       "    (9): ReLU()\n",
       "    (10): MaxPool2d(kernel_size=2, stride=2, padding=0, dilation=1, ceil_mode=False)\n",
       "  )\n",
       "  (fucn_block6): Sequential(\n",
       "    (0): Conv2d(512, 4096, kernel_size=(7, 7), stride=(1, 1))\n",
       "    (1): ReLU()\n",
       "    (2): Dropout(p=0.5, inplace=False)\n",
       "    (3): Conv2d(4096, 4096, kernel_size=(1, 1), stride=(1, 1))\n",
       "    (4): ReLU()\n",
       "    (5): Dropout(p=0.5, inplace=False)\n",
       "    (6): Conv2d(4096, 1000, kernel_size=(1, 1), stride=(1, 1))\n",
       "  )\n",
       ")"
      ]
     },
     "execution_count": 4,
     "metadata": {},
     "output_type": "execute_result"
    }
   ],
   "source": [
    "VGG19 = nn.Sequential(\n",
    "\n",
    ")\n",
    "\n",
    "class VGG19(nn.Module):\n",
    "    def __init__(self):\n",
    "        super().__init__()\n",
    "        self.conv_block1 = nn.Sequential(\n",
    "            nn.Conv2d( 3, 64, kernel_size=3, padding=1),\n",
    "            nn.ReLU(),\n",
    "            nn.Conv2d(64, 64, kernel_size=3, padding=1),\n",
    "            nn.ReLU(),\n",
    "            nn.MaxPool2d(kernel_size=2, stride=2),\n",
    "        )\n",
    "        self.conv_block2 = nn.Sequential(\n",
    "            nn.Conv2d( 64, 128, kernel_size=3, padding=1),\n",
    "            nn.ReLU(),\n",
    "            nn.Conv2d(128, 128, kernel_size=3, padding=1),\n",
    "            nn.ReLU(),\n",
    "            nn.MaxPool2d(kernel_size=2, stride=2),\n",
    "        )\n",
    "        self.conv_block3 = nn.Sequential(\n",
    "            nn.Conv2d(128, 256, kernel_size=3, padding=1),\n",
    "            nn.ReLU(),\n",
    "            nn.Conv2d(256, 256, kernel_size=3, padding=1),\n",
    "            nn.ReLU(),\n",
    "            nn.Conv2d(256, 256, kernel_size=3, padding=1),\n",
    "            nn.ReLU(),\n",
    "            nn.Conv2d(256, 256, kernel_size=3, padding=1),\n",
    "            nn.ReLU(),\n",
    "            nn.MaxPool2d(kernel_size=2, stride=2),\n",
    "        )\n",
    "        self.conv_block4 = nn.Sequential(\n",
    "            nn.Conv2d(256, 512, kernel_size=3, padding=1),\n",
    "            nn.ReLU(),\n",
    "            nn.Conv2d(512, 512, kernel_size=1),\n",
    "            nn.ReLU(),\n",
    "            nn.Conv2d(512, 512, kernel_size=1),\n",
    "            nn.ReLU(),\n",
    "            nn.Conv2d(512, 512, kernel_size=1),\n",
    "            nn.ReLU(),\n",
    "            nn.Conv2d(512, 512, kernel_size=1),\n",
    "            nn.ReLU(),\n",
    "            nn.MaxPool2d(kernel_size=2, stride=2),\n",
    "        )\n",
    "        self.conv_block5 = nn.Sequential(\n",
    "            nn.Conv2d(512, 512, kernel_size=1),\n",
    "            nn.ReLU(),\n",
    "            nn.Conv2d(512, 512, kernel_size=1),\n",
    "            nn.ReLU(),\n",
    "            nn.Conv2d(512, 512, kernel_size=1),\n",
    "            nn.ReLU(),\n",
    "            nn.Conv2d(512, 512, kernel_size=1),\n",
    "            nn.ReLU(),\n",
    "            nn.Conv2d(512, 512, kernel_size=1),\n",
    "            nn.ReLU(),\n",
    "            nn.MaxPool2d(kernel_size=2, stride=2),\n",
    "        )\n",
    "        self.fucn_block6 = nn.Sequential(\n",
    "            nn.Conv2d( 512, 4096, kernel_size=7),\n",
    "            nn.ReLU(),\n",
    "            nn.Dropout(p=dropout_ratio),\n",
    "            nn.Conv2d(4096, 4096, kernel_size=1),\n",
    "            nn.ReLU(),\n",
    "            nn.Dropout(p=dropout_ratio),\n",
    "            nn.Conv2d(4096, 1000, kernel_size=1),\n",
    "        )\n",
    "\n",
    "    def forward(self, x):\n",
    "        output = self.conv_block1(x)\n",
    "        output = self.conv_block2(output)\n",
    "        output = self.conv_block3(output)\n",
    "        output = self.conv_block4(output)\n",
    "        output = self.conv_block5(output)\n",
    "        output = self.fucn_block6(output)\n",
    "\n",
    "        return output.view(trn_batch_size, -1)\n",
    "\n",
    "Vgg19 = VGG19()\n",
    "\n",
    "init_weights(Vgg19, mean=0.0, std=0.01)\n",
    "init_bias(Vgg19, 0)\n",
    "\n",
    "Vgg19.to(device)"
   ]
  },
  {
   "cell_type": "markdown",
   "metadata": {
    "collapsed": false
   },
   "source": [
    "## Train"
   ]
  },
  {
   "cell_type": "code",
   "execution_count": 5,
   "metadata": {
    "ExecuteTime": {
     "end_time": "2023-07-07T02:42:18.643221800Z",
     "start_time": "2023-07-07T02:37:39.351108800Z"
    },
    "collapsed": false
   },
   "outputs": [
    {
     "ename": "KeyboardInterrupt",
     "evalue": "",
     "output_type": "error",
     "traceback": [
      "\u001b[1;31m---------------------------------------------------------------------------\u001b[0m",
      "\u001b[1;31mKeyboardInterrupt\u001b[0m                         Traceback (most recent call last)",
      "Cell \u001b[1;32mIn[5], line 1\u001b[0m\n\u001b[1;32m----> 1\u001b[0m training_loop(\n\u001b[0;32m      2\u001b[0m     n_epochs\u001b[39m=\u001b[39;49mepoch_count,\n\u001b[0;32m      3\u001b[0m     optimizer\u001b[39m=\u001b[39;49moptim\u001b[39m.\u001b[39;49mSGD(\n\u001b[0;32m      4\u001b[0m         Vgg19\u001b[39m.\u001b[39;49mparameters(),\n\u001b[0;32m      5\u001b[0m         lr\u001b[39m=\u001b[39;49mlearning_rate,\n\u001b[0;32m      6\u001b[0m         momentum\u001b[39m=\u001b[39;49mmomentum,\n\u001b[0;32m      7\u001b[0m         weight_decay\u001b[39m=\u001b[39;49mweight_decay,\n\u001b[0;32m      8\u001b[0m     ),\n\u001b[0;32m      9\u001b[0m     model\u001b[39m=\u001b[39;49mVgg19,\n\u001b[0;32m     10\u001b[0m     loss_fn\u001b[39m=\u001b[39;49mnn\u001b[39m.\u001b[39;49mCrossEntropyLoss(),\n\u001b[0;32m     11\u001b[0m     dev\u001b[39m=\u001b[39;49mdevice,\n\u001b[0;32m     12\u001b[0m     loader\u001b[39m=\u001b[39;49mimgnet_trn_loader,\n\u001b[0;32m     13\u001b[0m )\n\u001b[0;32m     15\u001b[0m torch\u001b[39m.\u001b[39msave(Vgg19\u001b[39m.\u001b[39mstate_dict(), \u001b[39m\"\u001b[39m\u001b[39mVggNet_Weights.pt\u001b[39m\u001b[39m\"\u001b[39m)\n\u001b[0;32m     16\u001b[0m \u001b[39mprint\u001b[39m(\u001b[39m\"\u001b[39m\u001b[39mVggNet parameters saved...\u001b[39m\u001b[39m\"\u001b[39m)\n",
      "File \u001b[1;32mg:\\Project\\Deep_Learning\\Classic_Nets\\tools.py:56\u001b[0m, in \u001b[0;36mtraining_loop\u001b[1;34m(n_epochs, optimizer, model, loss_fn, loader, dev)\u001b[0m\n\u001b[0;32m     53\u001b[0m     loss\u001b[39m.\u001b[39mbackward()\n\u001b[0;32m     54\u001b[0m     optimizer\u001b[39m.\u001b[39mstep()\n\u001b[1;32m---> 56\u001b[0m     trn_loss \u001b[39m+\u001b[39m\u001b[39m=\u001b[39m loss\u001b[39m.\u001b[39mitem()\n\u001b[0;32m     58\u001b[0m \u001b[39mprint\u001b[39m(\u001b[39m\"\u001b[39m\u001b[39mEpoch \u001b[39m\u001b[39m{}\u001b[39;00m\u001b[39m, Training Loss \u001b[39m\u001b[39m{}\u001b[39;00m\u001b[39m\"\u001b[39m\u001b[39m.\u001b[39mformat(epoch, trn_loss \u001b[39m/\u001b[39m \u001b[39mlen\u001b[39m(loader)))\n",
      "\u001b[1;31mKeyboardInterrupt\u001b[0m: "
     ]
    }
   ],
   "source": [
    "training_loop(\n",
    "    n_epochs=epoch_count,\n",
    "    optimizer=optim.SGD(\n",
    "        Vgg19.parameters(),\n",
    "        lr=learning_rate,\n",
    "        momentum=momentum,\n",
    "        weight_decay=weight_decay,\n",
    "    ),\n",
    "    model=Vgg19,\n",
    "    loss_fn=nn.CrossEntropyLoss(),\n",
    "    dev=device,\n",
    "    loader=imgnet_trn_loader,\n",
    ")\n",
    "\n",
    "torch.save(Vgg19.state_dict(), \"VggNet_Weights.pt\")\n",
    "print(\"VggNet parameters saved...\")"
   ]
  }
 ],
 "metadata": {
  "kernelspec": {
   "display_name": "Python 3",
   "language": "python",
   "name": "python3"
  },
  "language_info": {
   "codemirror_mode": {
    "name": "ipython",
    "version": 3
   },
   "file_extension": ".py",
   "mimetype": "text/x-python",
   "name": "python",
   "nbconvert_exporter": "python",
   "pygments_lexer": "ipython3",
   "version": "3.9.16"
  }
 },
 "nbformat": 4,
 "nbformat_minor": 0
}
